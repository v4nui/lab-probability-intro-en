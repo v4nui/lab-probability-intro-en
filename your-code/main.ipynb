{
 "cells": [
  {
   "cell_type": "markdown",
   "metadata": {},
   "source": [
    "# Probability"
   ]
  },
  {
   "cell_type": "markdown",
   "metadata": {},
   "source": [
    "## Challenge 1\n",
    "There is a box with 10 white balls, 12 red balls and 8 black balls. Calculate the probability of:\n",
    "* Taking a white ball out.\n",
    "* Taking a white ball on first extraction and a black ball out on second extraction without replacing the first one.\n",
    "* Taking a white ball on first extraction and a black ball out on second extraction replacing the first one.\n",
    "* Taking 3 balls and them being all different colours."
   ]
  },
  {
   "cell_type": "code",
   "execution_count": 1,
   "metadata": {},
   "outputs": [
    {
     "name": "stdout",
     "output_type": "stream",
     "text": [
      "Probability of taking a white ball out is: 0.333\n",
      "Probability of white-black without replacing is: 0.092\n",
      "Probability of white-black with replacing is: 0.089\n",
      "Probability of white-black with replacing is: 0.236\n"
     ]
    }
   ],
   "source": [
    "from math import factorial\n",
    "\n",
    "white = 10\n",
    "red = 12\n",
    "black = 8\n",
    "\n",
    "total = white + red + black\n",
    "\n",
    "# Probability of taking a white ball out\n",
    "prob_white = white / total\n",
    "print(f'Probability of taking a white ball out is: {round(prob_white, 3)}')\n",
    "\n",
    "# Probability of taking a white ball on first extraction and black ball out on the second extraction without replacing the first one.\n",
    "# probability of black on 2nd extraction\n",
    "prob_black_2 = black/ (total - 1)\n",
    "\n",
    "# combination 2 probs\n",
    "prob_wb = prob_white * prob_black_2\n",
    "\n",
    "print(f'Probability of white-black without replacing is: {round(prob_wb,3)}')\n",
    "\n",
    "\n",
    "# Probability of taking a white ball on first extraction and a black ball out on second extraction replacing the first one.\n",
    "\n",
    "prob_black = black/ total\n",
    "\n",
    "prob_wb_replace = prob_white * prob_black\n",
    "\n",
    "print(f'Probability of white-black with replacing is: {round(prob_wb_replace,3)}')\n",
    "\n",
    "# Probability of taking 3 balls and them being all different colours.\n",
    "# total amount of possible combinations of 3 balls having different colors\n",
    "total_3_col = white * red * black\n",
    "\n",
    "total_3 = factorial(30) / (factorial(30-3)*factorial(3))\n",
    "\n",
    "prob_3_color = total_3_col / total_3\n",
    "print(f'Probability of white-black with replacing is: {round(prob_3_color,3)}')"
   ]
  },
  {
   "cell_type": "markdown",
   "metadata": {},
   "source": [
    "## Challenge 2\n",
    "\n",
    "You want to go on picnic on Saturday. You hate rain, and would know to plan your weekend. To help you make a decision, you gather the following data about rainy days:\n",
    "\n",
    "* 40% of all days are cloudy.\n",
    "* About 50% of cloudy days are rainy. \n",
    "* About 20% of non-cloudy days are rainy.\n",
    "\n",
    "What is the chance of rain during next Saturday?"
   ]
  },
  {
   "cell_type": "code",
   "execution_count": 2,
   "metadata": {},
   "outputs": [
    {
     "name": "stdout",
     "output_type": "stream",
     "text": [
      "Probability of rain on Saturday is: 32%\n"
     ]
    }
   ],
   "source": [
    "# YOUR CODE HERE\n",
    "cloudy = 0.4 # cloudy days\n",
    "rainy = 0.4 * 0.5 # cloudy rainy days\n",
    "no_cloud_rainy = 0.6 * 0.2 # non-cloudy rainy days\n",
    "\n",
    "# Probability that it will rain on Saturday\n",
    "prob_rain = rainy + no_cloud_rainy\n",
    "\n",
    "print(f'Probability of rain on Saturday is: {int(prob_rain*100)}%')"
   ]
  },
  {
   "cell_type": "markdown",
   "metadata": {},
   "source": [
    "## Challenge 3\n",
    "\n",
    "A and B are events of a probability such that $P(A) = 0.3$, $P(B) = 0.6$ and $P(A \\cap B) = 0.1$\n",
    "\n",
    "Which of the following statements are true?  \n",
    "**HINT: draw a big Venn Diagram by your side**  \n",
    "* $P(\\overline{A}) = 0.7$\n",
    "* $P(A \\cup B) = 0.6$\n",
    "* $P(A \\cap \\overline{B}) = 0.2$\n",
    "* $P(A \\cup \\overline{A}) = 1$  \n",
    "* $P(A \\cap (B \\cup \\overline{B})) = 0.4$\n",
    "* $P(\\overline{A} \\cap \\overline{B}) = 0.3$\n",
    "* $P(\\overline{A \\cap B}) = 0.9$"
   ]
  },
  {
   "cell_type": "code",
   "execution_count": 3,
   "metadata": {},
   "outputs": [],
   "source": [
    "# YOUR CODE HERE\n",
    "p_a = 0.3\n",
    "p_b = 0.6\n",
    "p_a_and_b = 0.1\n",
    "\n",
    "p_no_a = 1 - p_a # true\n",
    "p_a_or_b = p_a + p_b - p_a_and_b # false\n",
    "p_a_and_no_b = 1 - p_b - p_a_and_b # true\n",
    "p_a_or_no_a = 1 # true\n",
    "p_a_and_no_b_or_b = p_a # false\n",
    "p_no_a_and_no_b = 1 - p_a - p_b + p_a_and_b # false\n",
    "p_no_a_and_b = 1 - p_a_and_b # true"
   ]
  },
  {
   "cell_type": "markdown",
   "metadata": {},
   "source": [
    "## Challenge 4\n",
    "\n",
    " * If someone flies to China, the probability of getting Covid is 1%  \n",
    " * If someone flies to Italy, the probability of getting Covid is 20%  \n",
    "\n",
    "I roll 1 dice with numbers 1, 2, 3, 4, 5, 6:  \n",
    " * If 1: I fly to Italy\n",
    " * If not 1: I fly to China\n",
    "\n",
    "During my trip, I got Covid. What is the probability that I flew to China?"
   ]
  },
  {
   "cell_type": "code",
   "execution_count": 4,
   "metadata": {},
   "outputs": [
    {
     "name": "stdout",
     "output_type": "stream",
     "text": [
      "Probabilty of flying to China given being covid positive is: 0.2\n"
     ]
    }
   ],
   "source": [
    "# YOUR CODE HERE\n",
    "\n",
    "# probability of flying to Italy or China\n",
    "p_italy = 1/6\n",
    "p_china = 5/6\n",
    "\n",
    "# probability of getting covid in Italy or China\n",
    "p_covid_italy = 0.2\n",
    "p_covid_china = 0.01\n",
    "\n",
    "# Total probability of getting covid\n",
    "p_covid_total = p_covid_china*p_china + p_covid_italy*p_italy\n",
    "\n",
    "# Applying Bayes\n",
    "p_china_covid = (p_covid_china * p_china) / p_covid_total\n",
    "\n",
    "print(f\"Probabilty of flying to China given being covid positive is: {p_china_covid}\")"
   ]
  },
  {
   "cell_type": "markdown",
   "metadata": {},
   "source": [
    "## BONUS\n",
    "\n",
    "You roll 2 dice. What is the probability that the sum of the numbers is 7? And 8? And 9? Then simulate 10000 times and draw a countplot."
   ]
  },
  {
   "cell_type": "markdown",
   "metadata": {},
   "source": [
    "your explanation here"
   ]
  },
  {
   "cell_type": "code",
   "execution_count": 5,
   "metadata": {},
   "outputs": [],
   "source": [
    "# YOUR CODE HERE\n"
   ]
  }
 ],
 "metadata": {
  "kernelspec": {
   "display_name": "base",
   "language": "python",
   "name": "python3"
  },
  "language_info": {
   "codemirror_mode": {
    "name": "ipython",
    "version": 3
   },
   "file_extension": ".py",
   "mimetype": "text/x-python",
   "name": "python",
   "nbconvert_exporter": "python",
   "pygments_lexer": "ipython3",
   "version": "3.12.4"
  },
  "toc": {
   "base_numbering": 1,
   "nav_menu": {},
   "number_sections": false,
   "sideBar": true,
   "skip_h1_title": false,
   "title_cell": "Table of Contents",
   "title_sidebar": "Contents",
   "toc_cell": false,
   "toc_position": {
    "height": "calc(100% - 180px)",
    "left": "10px",
    "top": "150px",
    "width": "296.475px"
   },
   "toc_section_display": true,
   "toc_window_display": false
  },
  "varInspector": {
   "cols": {
    "lenName": 16,
    "lenType": 16,
    "lenVar": 40
   },
   "kernels_config": {
    "python": {
     "delete_cmd_postfix": "",
     "delete_cmd_prefix": "del ",
     "library": "var_list.py",
     "varRefreshCmd": "print(var_dic_list())"
    },
    "r": {
     "delete_cmd_postfix": ") ",
     "delete_cmd_prefix": "rm(",
     "library": "var_list.r",
     "varRefreshCmd": "cat(var_dic_list()) "
    }
   },
   "types_to_exclude": [
    "module",
    "function",
    "builtin_function_or_method",
    "instance",
    "_Feature"
   ],
   "window_display": false
  }
 },
 "nbformat": 4,
 "nbformat_minor": 2
}
